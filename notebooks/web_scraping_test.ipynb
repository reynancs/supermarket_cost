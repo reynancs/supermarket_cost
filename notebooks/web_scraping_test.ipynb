{
 "cells": [
  {
   "cell_type": "code",
   "execution_count": null,
   "metadata": {},
   "outputs": [],
   "source": [
    "from selenium import webdriver\n",
    "from selenium.webdriver.chrome.options import Options\n",
    "from bs4 import BeautifulSoup\n",
    "import pandas as pd\n",
    "import time\n",
    "import re\n",
    "from datetime import datetime"
   ]
  },
  {
   "cell_type": "code",
   "execution_count": null,
   "metadata": {},
   "outputs": [],
   "source": [
    "# --- Configura o Selenium para rodar em modo \"headless\" (sem abrir janela)\n",
    "chrome_options = Options()\n",
    "chrome_options.add_argument(\"--headless\")  # Remova essa linha se quiser ver o navegador\n",
    "chrome_options.add_argument(\"--disable-gpu\")\n",
    "chrome_options.add_argument(\"--no-sandbox\")\n",
    "\n",
    "# --- Inicializa o navegador\n",
    "driver = webdriver.Chrome(options=chrome_options)"
   ]
  },
  {
   "cell_type": "code",
   "execution_count": null,
   "metadata": {},
   "outputs": [],
   "source": [
    "url_qrcode = \"http://nfe.sefaz.ba.gov.br/servicos/nfce/modulos/geral/NFCEC_consulta_chave_acesso.aspx?p=29250306057223048450650150000775861151017568|2|1|1|8DF25CB77517F73F80677AE283AEE7DFCCA38282\"\n",
    "driver.get(url_qrcode)"
   ]
  },
  {
   "cell_type": "code",
   "execution_count": null,
   "metadata": {},
   "outputs": [],
   "source": [
    "# --- Aguarda a página carregar completamente\n",
    "time.sleep(5)  # Pode ajustar dependendo da conexão\n",
    "\n",
    "# --- Extrai o HTML renderizado\n",
    "html = driver.page_source\n",
    "driver.quit()"
   ]
  },
  {
   "cell_type": "code",
   "execution_count": null,
   "metadata": {},
   "outputs": [],
   "source": [
    "# --- Faz o parsing com BeautifulSoup\n",
    "soup = BeautifulSoup(html, \"html.parser\")"
   ]
  },
  {
   "cell_type": "code",
   "execution_count": null,
   "metadata": {},
   "outputs": [],
   "source": [
    "#  use the method prettify() to display the HTML in the nested structure\n",
    "#print(soup.prettify())"
   ]
  },
  {
   "cell_type": "markdown",
   "metadata": {},
   "source": [
    "#### Tags\n",
    "The Tag object corresponds to an HTML tag in the original document"
   ]
  },
  {
   "cell_type": "code",
   "execution_count": null,
   "metadata": {},
   "outputs": [],
   "source": [
    "# Print the Title Tag\n",
    "tag_object = soup.title\n",
    "print(tag_object)"
   ]
  },
  {
   "cell_type": "markdown",
   "metadata": {},
   "source": [
    "#### HTML Attributes\n"
   ]
  },
  {
   "cell_type": "code",
   "execution_count": null,
   "metadata": {},
   "outputs": [],
   "source": [
    "#\n",
    "tag_object = soup.p\n",
    "print(tag_object.string)"
   ]
  },
  {
   "cell_type": "markdown",
   "metadata": {},
   "source": [
    "### Filter"
   ]
  },
  {
   "cell_type": "markdown",
   "metadata": {},
   "source": [
    "##### find_all\n",
    "The `find_all()` method looks through a tag's descendants and retrieves all descendants that match your filters.\n",
    "\n",
    "The Method signature for `find_all(name, attrs, recursive, string, limit, **kwargs)`"
   ]
  },
  {
   "cell_type": "code",
   "execution_count": null,
   "metadata": {},
   "outputs": [],
   "source": [
    "table_rows = soup.find_all('tr')\n",
    "table_rows"
   ]
  },
  {
   "cell_type": "code",
   "execution_count": null,
   "metadata": {},
   "outputs": [],
   "source": [
    "# Get the Suplier Name\n",
    "supplier_name = soup.find(id=\"u20\").string\n",
    "print(supplier_name, len(supplier_name))"
   ]
  },
  {
   "cell_type": "code",
   "execution_count": null,
   "metadata": {},
   "outputs": [],
   "source": [
    "# Get the CNPJ Number and Address\n",
    "\n",
    "# --- Pega todos os <div class=\"text\">\n",
    "divs_text = soup.find_all('div', class_='text')\n",
    "#print(divs_text[1].text) # pode usar o .text para obter os valores\n",
    "\n",
    "# Inicializa valores\n",
    "cnpj = \"\"\n",
    "endereco = \"\"\n",
    "\n",
    "for i, div in enumerate(divs_text):\n",
    "    texto = div.text.strip()\n",
    "    #print(i, text, len(text))\n",
    "    if 'CNPJ' in texto:\n",
    "        # Extrai CNPJ com regex\n",
    "        cnpj_match = re.search(r\"\\d{2}\\.\\d{3}\\.\\d{3}/\\d{4}-\\d{2}\", texto)\n",
    "\n",
    "        if cnpj_match:\n",
    "            cnpj = cnpj_match.group()\n",
    "        \n",
    "        # Tenta pegar o próximo div como endereço\n",
    "        if i + 1 < len(divs_text):\n",
    "            endereco = divs_text[i + 1].text.strip()\n",
    "        break\n",
    "\n",
    "\n",
    "print(\"CNPJ:\", cnpj)\n",
    "print(\"Endereço:\", endereco)\n",
    "\n"
   ]
  },
  {
   "cell_type": "code",
   "execution_count": null,
   "metadata": {},
   "outputs": [],
   "source": [
    "\"\"\" Obter as seguintes informações\n",
    "1. Informações Gerais da Nota\n",
    "  a. Numero = 77586\n",
    "  b. Emissão =  08/03/2025 21:46:15-03:00\n",
    "\n",
    "\n",
    "\"\"\"\n"
   ]
  },
  {
   "cell_type": "code",
   "execution_count": null,
   "metadata": {},
   "outputs": [],
   "source": [
    "infos = soup.find_all('li')\n",
    "print(infos[0])"
   ]
  },
  {
   "cell_type": "code",
   "execution_count": null,
   "metadata": {},
   "outputs": [],
   "source": [
    "# Get the Suplier Name\n",
    "infos = soup.find_all('div', class_=\"ui-li-static ui-body-inherit ui-first-child ui-last-child\")\n",
    "print(infos)"
   ]
  },
  {
   "cell_type": "code",
   "execution_count": null,
   "metadata": {},
   "outputs": [],
   "source": [
    "# --- Localiza o <li> que contém \"Número:\"\n",
    "li_info = soup.find(\"li\")\n",
    "print(li_info)"
   ]
  },
  {
   "cell_type": "code",
   "execution_count": null,
   "metadata": {},
   "outputs": [],
   "source": [
    "# --- Extrai o texto bruto\n",
    "info_text = li_info.get_text(\" \", strip=True)\n",
    "print(info_text)"
   ]
  },
  {
   "cell_type": "code",
   "execution_count": null,
   "metadata": {},
   "outputs": [],
   "source": [
    "# --- Regex para capturar os valores\n",
    "numero = re.search(r\"Número:\\s*(\\d+)\", info_text).group(1)\n",
    "serie = re.search(r\"Série:\\s*(\\d+)\", info_text).group(1)\n",
    "emissao = re.search(r\"Emissão:\\s*([\\d/ :\\-]+)\", info_text)\n",
    "\n",
    "emissao_val = emissao.group(1).strip() if emissao else \"\"\n",
    "\n",
    "num_nfe = numero + \"-\" + serie\n",
    "print(emissao_val)"
   ]
  },
  {
   "cell_type": "markdown",
   "metadata": {},
   "source": [
    "#### teste 2 - devido não ter retornado a data de emissão corretamente"
   ]
  },
  {
   "cell_type": "code",
   "execution_count": null,
   "metadata": {},
   "outputs": [],
   "source": [
    "# --- Localiza o <li> com as informações\n",
    "li_info = soup.find(\"li\")\n",
    "\n",
    "# Dicionário para armazenar campos encontrados\n",
    "dados = {}\n"
   ]
  },
  {
   "cell_type": "code",
   "execution_count": null,
   "metadata": {},
   "outputs": [],
   "source": [
    "dados = {}\n",
    "for strong in li_info.find_all(\"strong\"):\n",
    "    label = strong.text.strip().replace(\":\", \"\")\n",
    "    next_text = strong.next_sibling\n",
    "    if next_text:\n",
    "        value = next_text.strip()\n",
    "        dados[label] = value\n",
    "\n",
    "# --- Extrai os valores\n",
    "numero_val = dados.get(\"Número\", \"\")\n",
    "serie_val = dados.get(\"Série\", \"\")\n",
    "emissao_val = dados.get(\"Emissão\", \"\")\n",
    "\n",
    "# --- Remove qualquer coisa após \" -\", mantendo apenas a data/hora com fuso\n",
    "emissao_limpo = emissao_val.split(\" -\")[0].strip()\n",
    "\n",
    "# Converte para datetime\n",
    "emissao_datetime = datetime.strptime(emissao_limpo, \"%d/%m/%Y %H:%M:%S%z\")\n",
    "\n",
    "# --- Exibe resultados\n",
    "print(\"Número:\", numero_val)\n",
    "print(\"Série:\", serie_val)\n",
    "print(\"Emissão (datetime):\", emissao_datetime)"
   ]
  },
  {
   "cell_type": "markdown",
   "metadata": {},
   "source": [
    "O método .next_sibling retorna o próximo “irmão” (ou seja, o próximo nó do mesmo nível) que vem depois do elemento atual no HTML.\n",
    "\n",
    "Em HTML, os elementos \"irmãos\" são os que estão dentro do mesmo pai (parent)."
   ]
  },
  {
   "cell_type": "code",
   "execution_count": null,
   "metadata": {},
   "outputs": [],
   "source": [
    "li_info2 = soup.find(\"li\")\n",
    "\n",
    "for strong in li_info2.find_all(\"strong\"):\n",
    "    label = strong.text.strip().replace(\":\", \"\")\n",
    "    next_text0 = strong.text.strip()\n",
    "    next_text1 = strong.next_sibling\n",
    "    print(next_text0, next_text1) "
   ]
  },
  {
   "cell_type": "code",
   "execution_count": null,
   "metadata": {},
   "outputs": [],
   "source": []
  }
 ],
 "metadata": {
  "kernelspec": {
   "display_name": ".venv",
   "language": "python",
   "name": "python3"
  },
  "language_info": {
   "codemirror_mode": {
    "name": "ipython",
    "version": 3
   },
   "file_extension": ".py",
   "mimetype": "text/x-python",
   "name": "python",
   "nbconvert_exporter": "python",
   "pygments_lexer": "ipython3",
   "version": "3.11.11"
  }
 },
 "nbformat": 4,
 "nbformat_minor": 2
}
