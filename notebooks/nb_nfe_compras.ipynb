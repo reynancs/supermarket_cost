{
 "cells": [
  {
   "cell_type": "code",
   "execution_count": 47,
   "metadata": {},
   "outputs": [],
   "source": [
    "from selenium import webdriver\n",
    "from selenium.webdriver.chrome.options import Options\n",
    "from bs4 import BeautifulSoup\n",
    "import pandas as pd\n",
    "import time\n",
    "from datetime import datetime\n",
    "import re\n",
    "\n",
    "import numpy as np\n",
    "from scipy.stats import chi2_contingency"
   ]
  },
  {
   "cell_type": "markdown",
   "metadata": {},
   "source": [
    "### Funções"
   ]
  },
  {
   "cell_type": "code",
   "execution_count": 30,
   "metadata": {},
   "outputs": [],
   "source": [
    "# MÉTODOS\n",
    "def extrair_dados_tabela (soup, tag_id):\n",
    "    produtos = []\n",
    "\n",
    "    # --- Localiza a tabela com id=\"tabResult\"\n",
    "    #tabela = soup.find(\"table\", {\"id\": \"tabResult\"})\n",
    "    tabela = soup.find(\"table\", {\"id\": tag_id})\n",
    "    \n",
    "    if tabela:\n",
    "        linhas = tabela.find_all(\"tr\")\n",
    "        for linha in linhas:\n",
    "            colunas = linha.find_all(\"td\")\n",
    "            if len(colunas) >= 2:\n",
    "                # Descrição\n",
    "                descricao_tag = colunas[0].find(\"span\", class_=\"txtTit\")\n",
    "                descricao = descricao_tag.text.strip() if descricao_tag else \"\"\n",
    "\n",
    "                # Código\n",
    "                codigo_tag = colunas[0].find(\"span\", class_=\"RCod\")\n",
    "                codigo = \"\"\n",
    "                if codigo_tag:\n",
    "                    match = re.search(r\"\\d+\", codigo_tag.text)\n",
    "                    if match:\n",
    "                        codigo = match.group()\n",
    "\n",
    "                # Extrai o restante do texto do td esquerdo\n",
    "                info_extra = colunas[0].text\n",
    "\n",
    "                # Regex para quantidade, unidade e valor unitário\n",
    "                qtd_match = re.search(r\"Qtde\\.\\s*:\\s*([\\d,\\.]+)\", info_extra)\n",
    "                un_match = re.search(r\"UN:\\s*([A-Za-z]+)\", info_extra)\n",
    "                vl_unit_match = re.search(r\"Vl\\. Unit\\.\\s*:\\s*([\\d,]+)\", info_extra)\n",
    "\n",
    "                quantidade = qtd_match.group(1) if qtd_match else \"\"\n",
    "                unidade = un_match.group(1) if un_match else \"\"\n",
    "                valor_unitario = vl_unit_match.group(1) if vl_unit_match else \"\"\n",
    "\n",
    "                # Valor total\n",
    "                valor_tag = colunas[1].find(\"span\", class_=\"valor\")\n",
    "                valor_total = valor_tag.text.strip() if valor_tag else \"\"\n",
    "\n",
    "                produtos.append({\n",
    "                    \"descricao_item\": descricao,\n",
    "                    \"cod\": codigo,\n",
    "                    \"qtde\": quantidade,\n",
    "                    \"unid\": unidade,\n",
    "                    \"valor_unitario\": valor_unitario,\n",
    "                    \"valor_total\": valor_total\n",
    "                })\n",
    "\n",
    "        df = pd.DataFrame(produtos)\n",
    "        #print(df)\n",
    "        return df\n",
    "    else:\n",
    "        print(\"Tabela 'tabResult' não encontrada.\")\n",
    "\n",
    "\n",
    "def extrair_nome_supermercado(soup, tag_info, df):\n",
    "    # Obtém o nome da empresa e cnpj\n",
    "    nome = soup.find(id=tag_info).string\n",
    "    #supplier_name = soup.find(id=\"u20\").string\n",
    "    df[\"supermercado\"] = nome \n",
    "    return df\n",
    "\n",
    "def extrair_cnpj_endereco (soup, tag_classe, df):\n",
    "    # Get the CNPJ Number and Address\n",
    "\n",
    "    # --- Pega todos os <div class=\"text\">\n",
    "    divs_text = soup.find_all('div', class_= tag_classe)\n",
    "    #print(divs_text[1].text) # pode usar o .text para obter os valores\n",
    "\n",
    "    # Inicializa valores\n",
    "    cnpj = \"\"\n",
    "    endereco = \"\"\n",
    "\n",
    "    for i, div in enumerate(divs_text):\n",
    "        texto = div.text.strip()\n",
    "        #print(i, text, len(text))\n",
    "        if 'CNPJ' in texto:\n",
    "            # Extrai CNPJ com regex\n",
    "            cnpj_match = re.search(r\"\\d{2}\\.\\d{3}\\.\\d{3}/\\d{4}-\\d{2}\", texto)\n",
    "\n",
    "            if cnpj_match:\n",
    "                cnpj = cnpj_match.group()\n",
    "                df[\"cnpj_emissor\"] = cnpj\n",
    "            \n",
    "            # Tenta pegar o próximo div como endereço\n",
    "            if i + 1 < len(divs_text):\n",
    "                endereco = divs_text[i + 1].text.strip()\n",
    "                df[\"endereco\"] = endereco\n",
    "            break\n",
    "\n",
    "    return df\n",
    "\n",
    "def extrair_dados_nfe (soup, tag, df): \n",
    "    li_info = soup.find(tag) # Localiza o <li> que contém \"Número:\"\n",
    "    dados = {}\n",
    "\n",
    "    for strong in li_info.find_all(\"strong\"):\n",
    "        label = strong.text.strip().replace(\":\", \"\")\n",
    "        next_text = strong.next_sibling\n",
    "        if next_text:\n",
    "            value = next_text.strip()\n",
    "            dados[label] = value\n",
    "\n",
    "    # --- Extrai os valores\n",
    "    df[\"numero_nfe\"] = dados.get(\"Número\", \"\")\n",
    "    df[\"numero_serie\"] = dados.get(\"Série\", \"\")\n",
    "\n",
    "    emissao_val = dados.get(\"Emissão\", \"\")\n",
    "    # --- Remove qualquer coisa após \" -\", mantendo apenas a data/hora com fuso\n",
    "    emissao_limpo = emissao_val.split(\" -\")[0].strip()\n",
    "    # Converte para datetime\n",
    "    emissao_datetime = datetime.strptime(emissao_limpo, \"%d/%m/%Y %H:%M:%S%z\")\n",
    "\n",
    "    df[\"datetime_emissao\"] = emissao_datetime\n",
    "\n",
    "    return df\n",
    "\n",
    "def categorizar_produtos(produto):\n",
    "    nome_produto = str(produto).lower()\n",
    "\n",
    "    categorias = {\n",
    "        'Meat': r'\\b(frango|carne|peito|coxa|lingui[çc]a|presunto|bife|pernil)\\b',\n",
    "        'Grains': r'\\b(arroz|feij[aã]o|macarr[aã]o|farinha|massa|cuscuz|aveia)\\b',\n",
    "        'Dairy': r'\\b(leite|iogurte|queijo|requeij[aã]o|manteiga|creme de leite)\\b',\n",
    "        'Eggs': r'\\b(ovo|ovos)\\b',\n",
    "        'Fruits': r'\\b(fruta|banana|ma[çc]a|uva|laranja|mam[aã]o|abacaxi|mel[aã]o|melancia)\\b',\n",
    "        'Vegetables': r'\\b(alface|tomate|cenoura|batata|cebola|alho|pepino|piment[aã]o|chuchu)\\b',\n",
    "        'Beverages': r'\\b(refrigerante|suco|[cç]erveja|vinho|[cç]h[aã]|[cç]afe)\\b',\n",
    "        'Oil': r'\\b([oó]leo|azeite|óleo de soja)\\b',\n",
    "        'Snacks': r'\\b(salgadinho|biscoito|chocolate|bala|doce|barrinha|pipoca)\\b',\n",
    "        'Cleaning': r'\\b(detergente|sab[aã]o|desinfetante|limpador|amaciante)\\b',\n",
    "        'Personal Care': r'\\b(sabonete|shampoo|creme dental|escova|papel higi[eé]nico|desodorante)\\b',\n",
    "        'Bakery': r'\\b(p[aã]o|bolo|p[aã]o de forma|broa|rosca)\\b'\n",
    "    }\n",
    "\n",
    "    for categoria, padrao in categorias.items():\n",
    "        if re.search(padrao, nome_produto):\n",
    "            return categoria\n",
    "    \n",
    "    return 'Outros'\n"
   ]
  },
  {
   "cell_type": "markdown",
   "metadata": {},
   "source": [
    "#### 1. Carregamento dos Dados (Web Scrapping)"
   ]
  },
  {
   "cell_type": "code",
   "execution_count": 17,
   "metadata": {},
   "outputs": [],
   "source": [
    "url_qrcode = \"http://nfe.sefaz.ba.gov.br/servicos/nfce/modulos/geral/NFCEC_consulta_chave_acesso.aspx?p=29250306057223048450650150000775861151017568|2|1|1|8DF25CB77517F73F80677AE283AEE7DFCCA38282\"\n",
    "\n",
    "# Configura o Selenium para rodar em modo \"headless\" (sem abrir janela)\n",
    "chrome_options = Options()\n",
    "chrome_options.add_argument(\"--headless\")  # Remova essa linha se quiser ver o navegador\n",
    "chrome_options.add_argument(\"--disable-gpu\")\n",
    "chrome_options.add_argument(\"--no-sandbox\")\n",
    "\n",
    "# Inicializa o navegador\n",
    "driver = webdriver.Chrome(options=chrome_options)\n",
    "driver.get(url_qrcode)\n",
    "\n",
    "# Aguarda a página carregar completamente\n",
    "time.sleep(3)\n",
    "\n",
    "# Extrai o HTML renderizado\n",
    "html = driver.page_source\n",
    "driver.quit()\n"
   ]
  },
  {
   "cell_type": "code",
   "execution_count": 18,
   "metadata": {},
   "outputs": [],
   "source": [
    "# --- Faz o parsing com BeautifulSoup\n",
    "soup = BeautifulSoup(html, \"html.parser\")\n",
    "\n",
    "# Extrair Dados da Compra \"Tabela de itens\"\n",
    "tag_tabela = \"tabResult\" \n",
    "df_raw = extrair_dados_tabela(soup, tag_tabela)\n",
    "\n",
    "# Extrai nome do supermercado por id\n",
    "tag_info = \"u20\"\n",
    "df = extrair_nome_supermercado(soup, tag_info, df_raw)\n",
    "\n",
    "tag_id = \"text\"\n",
    "df = extrair_cnpj_endereco(soup, tag_id, df)\n",
    "\n",
    "tag_div = \"li\"\n",
    "df = extrair_dados_nfe(soup, tag_div, df)"
   ]
  },
  {
   "cell_type": "markdown",
   "metadata": {},
   "source": [
    "#### 2. Exploração dos Dados"
   ]
  },
  {
   "cell_type": "code",
   "execution_count": null,
   "metadata": {},
   "outputs": [],
   "source": [
    "# Verifica as 5 primeiras linhas do dataframe\n",
    "#df.head()\n",
    "\n",
    "# Verifica o shape\n",
    "print(f\" Nº de Linhas= {df.shape[0]} \\n Nº de Colunas= {df.shape[1]}\")\n",
    "\n",
    "# Verifica o tipo de dados das colunas\n",
    "df.info()\n",
    "\n",
    "# Verifica valores nulos\n",
    "df.isnull().sum()\n",
    "\n",
    "# Verifica a Estatistica Descritiva do Dataframe\n",
    "df.describe()"
   ]
  },
  {
   "cell_type": "markdown",
   "metadata": {},
   "source": [
    "#### 3.Limpeza dos Dados \n",
    "- Manipular valores nulos, em branco;\n",
    "- Converter tipo de dados;"
   ]
  },
  {
   "cell_type": "code",
   "execution_count": null,
   "metadata": {},
   "outputs": [],
   "source": [
    "# MISSING VALUES\n",
    "#valor_medio = df[0].median()\n",
    "#df[0] = df[0].fillna(valor_medio)"
   ]
  },
  {
   "cell_type": "code",
   "execution_count": 19,
   "metadata": {},
   "outputs": [
    {
     "name": "stdout",
     "output_type": "stream",
     "text": [
      "<class 'pandas.core.frame.DataFrame'>\n",
      "RangeIndex: 108 entries, 0 to 107\n",
      "Data columns (total 12 columns):\n",
      " #   Column            Non-Null Count  Dtype                    \n",
      "---  ------            --------------  -----                    \n",
      " 0   descricao_item    108 non-null    object                   \n",
      " 1   cod               108 non-null    object                   \n",
      " 2   qtde              108 non-null    float64                  \n",
      " 3   unid              108 non-null    object                   \n",
      " 4   valor_unitario    108 non-null    float64                  \n",
      " 5   valor_total       108 non-null    float64                  \n",
      " 6   supermercado      108 non-null    object                   \n",
      " 7   cnpj_emissor      108 non-null    object                   \n",
      " 8   endereco          108 non-null    object                   \n",
      " 9   numero_nfe        108 non-null    object                   \n",
      " 10  numero_serie      108 non-null    object                   \n",
      " 11  datetime_emissao  108 non-null    datetime64[us, UTC-03:00]\n",
      "dtypes: datetime64[us, UTC-03:00](1), float64(3), object(8)\n",
      "memory usage: 10.3+ KB\n"
     ]
    }
   ],
   "source": [
    "# CONVERT DATA TYPE\n",
    "# Converte colunas para tipo numérico\n",
    "cols_to_convert = ['qtde', 'valor_unitario', 'valor_total']\n",
    "\n",
    "for col in cols_to_convert:\n",
    "    df[col] = pd.to_numeric(df[col].str.replace(\",\", \".\"), errors='coerce')\n",
    "\n",
    "df.info()"
   ]
  },
  {
   "cell_type": "code",
   "execution_count": null,
   "metadata": {},
   "outputs": [
    {
     "name": "stdout",
     "output_type": "stream",
     "text": [
      "<class 'pandas.core.frame.DataFrame'>\n",
      "Index: 102 entries, 0 to 107\n",
      "Data columns (total 12 columns):\n",
      " #   Column            Non-Null Count  Dtype                    \n",
      "---  ------            --------------  -----                    \n",
      " 0   descricao_item    102 non-null    object                   \n",
      " 1   cod               102 non-null    object                   \n",
      " 2   qtde              102 non-null    float64                  \n",
      " 3   unid              102 non-null    object                   \n",
      " 4   valor_unitario    102 non-null    float64                  \n",
      " 5   valor_total       102 non-null    float64                  \n",
      " 6   supermercado      102 non-null    object                   \n",
      " 7   cnpj_emissor      102 non-null    object                   \n",
      " 8   endereco          102 non-null    object                   \n",
      " 9   numero_nfe        102 non-null    object                   \n",
      " 10  numero_serie      102 non-null    object                   \n",
      " 11  datetime_emissao  102 non-null    datetime64[us, UTC-03:00]\n",
      "dtypes: datetime64[us, UTC-03:00](1), float64(3), object(8)\n",
      "memory usage: 10.4+ KB\n"
     ]
    }
   ],
   "source": [
    "# OUTLIERS - NA\n",
    "# Identifica outliers\n",
    "q1 = df['valor_total'].quantile(0.25)\n",
    "q3 = df['valor_total'].quantile(0.75)\n",
    "iqr = q3 - q1\n",
    "lower_bound = q1 - 1.5 * iqr\n",
    "upper_bound = q3 + 1.5 * iqr\n",
    "\n",
    "# Filtra outliers\n",
    "df = df[~((df['valor_total'] < lower_bound) | (df['valor_total'] > upper_bound))]\n",
    "\n",
    "df.info()"
   ]
  },
  {
   "cell_type": "markdown",
   "metadata": {},
   "source": []
  },
  {
   "cell_type": "code",
   "execution_count": 23,
   "metadata": {},
   "outputs": [
    {
     "data": {
      "application/vnd.microsoft.datawrangler.viewer.v0+json": {
       "columns": [
        {
         "name": "index",
         "rawType": "object",
         "type": "string"
        },
        {
         "name": "qtde",
         "rawType": "float64",
         "type": "float"
        },
        {
         "name": "valor_unitario",
         "rawType": "float64",
         "type": "float"
        },
        {
         "name": "valor_total",
         "rawType": "float64",
         "type": "float"
        }
       ],
       "conversionMethod": "pd.DataFrame",
       "ref": "73b50d9f-0d74-4415-8f7e-c28c3cd3df0c",
       "rows": [
        [
         "count",
         "102.0",
         "102.0",
         "102.0"
        ],
        [
         "mean",
         "1.2048235294117648",
         "13.420686274509807",
         "9.190686274509803"
        ],
        [
         "std",
         "1.6674042102120779",
         "15.778987924464731",
         "7.455156665724927"
        ],
        [
         "min",
         "0.05",
         "1.25",
         "0.85"
        ],
        [
         "25%",
         "0.79375",
         "3.55",
         "3.69"
        ],
        [
         "50%",
         "1.0",
         "7.24",
         "6.02"
        ],
        [
         "75%",
         "1.0",
         "16.825",
         "12.8925"
        ],
        [
         "max",
         "12.0",
         "83.0",
         "30.98"
        ]
       ],
       "shape": {
        "columns": 3,
        "rows": 8
       }
      },
      "text/html": [
       "<div>\n",
       "<style scoped>\n",
       "    .dataframe tbody tr th:only-of-type {\n",
       "        vertical-align: middle;\n",
       "    }\n",
       "\n",
       "    .dataframe tbody tr th {\n",
       "        vertical-align: top;\n",
       "    }\n",
       "\n",
       "    .dataframe thead th {\n",
       "        text-align: right;\n",
       "    }\n",
       "</style>\n",
       "<table border=\"1\" class=\"dataframe\">\n",
       "  <thead>\n",
       "    <tr style=\"text-align: right;\">\n",
       "      <th></th>\n",
       "      <th>qtde</th>\n",
       "      <th>valor_unitario</th>\n",
       "      <th>valor_total</th>\n",
       "    </tr>\n",
       "  </thead>\n",
       "  <tbody>\n",
       "    <tr>\n",
       "      <th>count</th>\n",
       "      <td>102.000000</td>\n",
       "      <td>102.000000</td>\n",
       "      <td>102.000000</td>\n",
       "    </tr>\n",
       "    <tr>\n",
       "      <th>mean</th>\n",
       "      <td>1.204824</td>\n",
       "      <td>13.420686</td>\n",
       "      <td>9.190686</td>\n",
       "    </tr>\n",
       "    <tr>\n",
       "      <th>std</th>\n",
       "      <td>1.667404</td>\n",
       "      <td>15.778988</td>\n",
       "      <td>7.455157</td>\n",
       "    </tr>\n",
       "    <tr>\n",
       "      <th>min</th>\n",
       "      <td>0.050000</td>\n",
       "      <td>1.250000</td>\n",
       "      <td>0.850000</td>\n",
       "    </tr>\n",
       "    <tr>\n",
       "      <th>25%</th>\n",
       "      <td>0.793750</td>\n",
       "      <td>3.550000</td>\n",
       "      <td>3.690000</td>\n",
       "    </tr>\n",
       "    <tr>\n",
       "      <th>50%</th>\n",
       "      <td>1.000000</td>\n",
       "      <td>7.240000</td>\n",
       "      <td>6.020000</td>\n",
       "    </tr>\n",
       "    <tr>\n",
       "      <th>75%</th>\n",
       "      <td>1.000000</td>\n",
       "      <td>16.825000</td>\n",
       "      <td>12.892500</td>\n",
       "    </tr>\n",
       "    <tr>\n",
       "      <th>max</th>\n",
       "      <td>12.000000</td>\n",
       "      <td>83.000000</td>\n",
       "      <td>30.980000</td>\n",
       "    </tr>\n",
       "  </tbody>\n",
       "</table>\n",
       "</div>"
      ],
      "text/plain": [
       "             qtde  valor_unitario  valor_total\n",
       "count  102.000000      102.000000   102.000000\n",
       "mean     1.204824       13.420686     9.190686\n",
       "std      1.667404       15.778988     7.455157\n",
       "min      0.050000        1.250000     0.850000\n",
       "25%      0.793750        3.550000     3.690000\n",
       "50%      1.000000        7.240000     6.020000\n",
       "75%      1.000000       16.825000    12.892500\n",
       "max     12.000000       83.000000    30.980000"
      ]
     },
     "execution_count": 23,
     "metadata": {},
     "output_type": "execute_result"
    }
   ],
   "source": [
    "# Verifica a Estatistica Descritiva do Dataframe\n",
    "df.describe()"
   ]
  },
  {
   "cell_type": "markdown",
   "metadata": {},
   "source": [
    "#### 4. Data Wrangling"
   ]
  },
  {
   "cell_type": "code",
   "execution_count": 40,
   "metadata": {},
   "outputs": [
    {
     "name": "stderr",
     "output_type": "stream",
     "text": [
      "C:\\Users\\reyna\\AppData\\Local\\Temp\\ipykernel_4440\\2446088937.py:2: SettingWithCopyWarning: \n",
      "A value is trying to be set on a copy of a slice from a DataFrame.\n",
      "Try using .loc[row_indexer,col_indexer] = value instead\n",
      "\n",
      "See the caveats in the documentation: https://pandas.pydata.org/pandas-docs/stable/user_guide/indexing.html#returning-a-view-versus-a-copy\n",
      "  df['custo_total'] = df.groupby('datetime_emissao')['valor_total'].transform('sum')\n",
      "C:\\Users\\reyna\\AppData\\Local\\Temp\\ipykernel_4440\\2446088937.py:4: SettingWithCopyWarning: \n",
      "A value is trying to be set on a copy of a slice from a DataFrame.\n",
      "Try using .loc[row_indexer,col_indexer] = value instead\n",
      "\n",
      "See the caveats in the documentation: https://pandas.pydata.org/pandas-docs/stable/user_guide/indexing.html#returning-a-view-versus-a-copy\n",
      "  df['categoria'] = df['descricao_item'].apply(categorizar_produtos)\n"
     ]
    },
    {
     "data": {
      "application/vnd.microsoft.datawrangler.viewer.v0+json": {
       "columns": [
        {
         "name": "index",
         "rawType": "int64",
         "type": "integer"
        },
        {
         "name": "categoria",
         "rawType": "object",
         "type": "string"
        },
        {
         "name": "qtde_total",
         "rawType": "int64",
         "type": "integer"
        },
        {
         "name": "preco_unit_medio",
         "rawType": "float64",
         "type": "float"
        },
        {
         "name": "total_gasto",
         "rawType": "float64",
         "type": "float"
        }
       ],
       "conversionMethod": "pd.DataFrame",
       "ref": "66061f59-e133-47a8-98ed-e35afa8cd919",
       "rows": [
        [
         "0",
         "Bakery",
         "2",
         "20.4",
         "8.94"
        ],
        [
         "1",
         "Dairy",
         "1",
         "1.89",
         "1.89"
        ],
        [
         "2",
         "Fruits",
         "5",
         "7.072",
         "31.07"
        ],
        [
         "3",
         "Grains",
         "1",
         "15.9",
         "15.9"
        ],
        [
         "4",
         "Outros",
         "87",
         "13.978275862068964",
         "862.93"
        ],
        [
         "5",
         "Vegetables",
         "6",
         "9.808333333333334",
         "16.72"
        ]
       ],
       "shape": {
        "columns": 4,
        "rows": 6
       }
      },
      "text/html": [
       "<div>\n",
       "<style scoped>\n",
       "    .dataframe tbody tr th:only-of-type {\n",
       "        vertical-align: middle;\n",
       "    }\n",
       "\n",
       "    .dataframe tbody tr th {\n",
       "        vertical-align: top;\n",
       "    }\n",
       "\n",
       "    .dataframe thead th {\n",
       "        text-align: right;\n",
       "    }\n",
       "</style>\n",
       "<table border=\"1\" class=\"dataframe\">\n",
       "  <thead>\n",
       "    <tr style=\"text-align: right;\">\n",
       "      <th></th>\n",
       "      <th>categoria</th>\n",
       "      <th>qtde_total</th>\n",
       "      <th>preco_unit_medio</th>\n",
       "      <th>total_gasto</th>\n",
       "    </tr>\n",
       "  </thead>\n",
       "  <tbody>\n",
       "    <tr>\n",
       "      <th>0</th>\n",
       "      <td>Bakery</td>\n",
       "      <td>2</td>\n",
       "      <td>20.400000</td>\n",
       "      <td>8.94</td>\n",
       "    </tr>\n",
       "    <tr>\n",
       "      <th>1</th>\n",
       "      <td>Dairy</td>\n",
       "      <td>1</td>\n",
       "      <td>1.890000</td>\n",
       "      <td>1.89</td>\n",
       "    </tr>\n",
       "    <tr>\n",
       "      <th>2</th>\n",
       "      <td>Fruits</td>\n",
       "      <td>5</td>\n",
       "      <td>7.072000</td>\n",
       "      <td>31.07</td>\n",
       "    </tr>\n",
       "    <tr>\n",
       "      <th>3</th>\n",
       "      <td>Grains</td>\n",
       "      <td>1</td>\n",
       "      <td>15.900000</td>\n",
       "      <td>15.90</td>\n",
       "    </tr>\n",
       "    <tr>\n",
       "      <th>4</th>\n",
       "      <td>Outros</td>\n",
       "      <td>87</td>\n",
       "      <td>13.978276</td>\n",
       "      <td>862.93</td>\n",
       "    </tr>\n",
       "    <tr>\n",
       "      <th>5</th>\n",
       "      <td>Vegetables</td>\n",
       "      <td>6</td>\n",
       "      <td>9.808333</td>\n",
       "      <td>16.72</td>\n",
       "    </tr>\n",
       "  </tbody>\n",
       "</table>\n",
       "</div>"
      ],
      "text/plain": [
       "    categoria  qtde_total  preco_unit_medio  total_gasto\n",
       "0      Bakery           2         20.400000         8.94\n",
       "1       Dairy           1          1.890000         1.89\n",
       "2      Fruits           5          7.072000        31.07\n",
       "3      Grains           1         15.900000        15.90\n",
       "4      Outros          87         13.978276       862.93\n",
       "5  Vegetables           6          9.808333        16.72"
      ]
     },
     "metadata": {},
     "output_type": "display_data"
    }
   ],
   "source": [
    "# Create 'total_cost' column (assuming 'date' column represents shopping trips)\n",
    "df['custo_total'] = df.groupby('datetime_emissao')['valor_total'].transform('sum')\n",
    "\n",
    "df['categoria'] = df['descricao_item'].apply(categorizar_produtos)\n",
    "\n",
    "# Aggregate data\n",
    "df_product_summary = df.groupby(['categoria']).agg(\n",
    "    qtde_total=('qtde', 'count'),\n",
    "    preco_unit_medio=('valor_unitario', 'mean'),\n",
    "    total_gasto=('valor_total', 'sum')\n",
    ").reset_index()\n",
    "\n",
    "display(df_product_summary.head(10))"
   ]
  },
  {
   "cell_type": "markdown",
   "metadata": {},
   "source": [
    "#### 5. DATA ANALYSIS"
   ]
  },
  {
   "cell_type": "code",
   "execution_count": null,
   "metadata": {},
   "outputs": [
    {
     "data": {
      "text/plain": [
       "categoria\n",
       "Bakery      8.94\n",
       "Dairy       1.89\n",
       "Fruits     31.07\n",
       "Grains     15.90\n",
       "Outros    862.93\n",
       "Name: total_gasto, dtype: float64"
      ]
     },
     "execution_count": 41,
     "metadata": {},
     "output_type": "execute_result"
    }
   ],
   "source": [
    "# Calculate total spending per product category\n",
    "spending_per_category = df_product_summary.groupby('categoria')['total_gasto'].sum()\n",
    "spending_per_category.head()"
   ]
  },
  {
   "cell_type": "markdown",
   "metadata": {},
   "source": []
  },
  {
   "cell_type": "code",
   "execution_count": 43,
   "metadata": {},
   "outputs": [
    {
     "data": {
      "application/vnd.microsoft.datawrangler.viewer.v0+json": {
       "columns": [
        {
         "name": "index",
         "rawType": "int64",
         "type": "integer"
        },
        {
         "name": "categoria",
         "rawType": "object",
         "type": "string"
        },
        {
         "name": "qtde_total",
         "rawType": "int64",
         "type": "integer"
        },
        {
         "name": "preco_unit_medio",
         "rawType": "float64",
         "type": "float"
        },
        {
         "name": "total_gasto",
         "rawType": "float64",
         "type": "float"
        }
       ],
       "conversionMethod": "pd.DataFrame",
       "ref": "5288193f-db1f-4114-b4b2-6630820dc68c",
       "rows": [
        [
         "4",
         "Outros",
         "87",
         "13.978275862068964",
         "862.93"
        ],
        [
         "2",
         "Fruits",
         "5",
         "7.072",
         "31.07"
        ],
        [
         "5",
         "Vegetables",
         "6",
         "9.808333333333334",
         "16.72"
        ],
        [
         "3",
         "Grains",
         "1",
         "15.9",
         "15.9"
        ],
        [
         "0",
         "Bakery",
         "2",
         "20.4",
         "8.94"
        ]
       ],
       "shape": {
        "columns": 4,
        "rows": 5
       }
      },
      "text/html": [
       "<div>\n",
       "<style scoped>\n",
       "    .dataframe tbody tr th:only-of-type {\n",
       "        vertical-align: middle;\n",
       "    }\n",
       "\n",
       "    .dataframe tbody tr th {\n",
       "        vertical-align: top;\n",
       "    }\n",
       "\n",
       "    .dataframe thead th {\n",
       "        text-align: right;\n",
       "    }\n",
       "</style>\n",
       "<table border=\"1\" class=\"dataframe\">\n",
       "  <thead>\n",
       "    <tr style=\"text-align: right;\">\n",
       "      <th></th>\n",
       "      <th>categoria</th>\n",
       "      <th>qtde_total</th>\n",
       "      <th>preco_unit_medio</th>\n",
       "      <th>total_gasto</th>\n",
       "    </tr>\n",
       "  </thead>\n",
       "  <tbody>\n",
       "    <tr>\n",
       "      <th>4</th>\n",
       "      <td>Outros</td>\n",
       "      <td>87</td>\n",
       "      <td>13.978276</td>\n",
       "      <td>862.93</td>\n",
       "    </tr>\n",
       "    <tr>\n",
       "      <th>2</th>\n",
       "      <td>Fruits</td>\n",
       "      <td>5</td>\n",
       "      <td>7.072000</td>\n",
       "      <td>31.07</td>\n",
       "    </tr>\n",
       "    <tr>\n",
       "      <th>5</th>\n",
       "      <td>Vegetables</td>\n",
       "      <td>6</td>\n",
       "      <td>9.808333</td>\n",
       "      <td>16.72</td>\n",
       "    </tr>\n",
       "    <tr>\n",
       "      <th>3</th>\n",
       "      <td>Grains</td>\n",
       "      <td>1</td>\n",
       "      <td>15.900000</td>\n",
       "      <td>15.90</td>\n",
       "    </tr>\n",
       "    <tr>\n",
       "      <th>0</th>\n",
       "      <td>Bakery</td>\n",
       "      <td>2</td>\n",
       "      <td>20.400000</td>\n",
       "      <td>8.94</td>\n",
       "    </tr>\n",
       "  </tbody>\n",
       "</table>\n",
       "</div>"
      ],
      "text/plain": [
       "    categoria  qtde_total  preco_unit_medio  total_gasto\n",
       "4      Outros          87         13.978276       862.93\n",
       "2      Fruits           5          7.072000        31.07\n",
       "5  Vegetables           6          9.808333        16.72\n",
       "3      Grains           1         15.900000        15.90\n",
       "0      Bakery           2         20.400000         8.94"
      ]
     },
     "execution_count": 43,
     "metadata": {},
     "output_type": "execute_result"
    }
   ],
   "source": [
    "# Identify the top 5 most expensive products\n",
    "top_5_products = df_product_summary.nlargest(5, 'total_gasto')\n",
    "top_5_products.head()"
   ]
  },
  {
   "cell_type": "code",
   "execution_count": 44,
   "metadata": {},
   "outputs": [
    {
     "data": {
      "text/plain": [
       "categoria\n",
       "Outros        862.93\n",
       "Fruits         31.07\n",
       "Vegetables     16.72\n",
       "Grains         15.90\n",
       "Bakery          8.94\n",
       "Name: total_gasto, dtype: float64"
      ]
     },
     "execution_count": 44,
     "metadata": {},
     "output_type": "execute_result"
    }
   ],
   "source": [
    "# Identify the top 5 most expensive product categories\n",
    "top_5_categories = spending_per_category.nlargest(5)\n",
    "top_5_categories.head()"
   ]
  },
  {
   "cell_type": "code",
   "execution_count": 45,
   "metadata": {},
   "outputs": [
    {
     "data": {
      "application/vnd.microsoft.datawrangler.viewer.v0+json": {
       "columns": [
        {
         "name": "index",
         "rawType": "int64",
         "type": "integer"
        },
        {
         "name": "categoria",
         "rawType": "object",
         "type": "string"
        },
        {
         "name": "qtde_total",
         "rawType": "int64",
         "type": "integer"
        },
        {
         "name": "preco_unit_medio",
         "rawType": "float64",
         "type": "float"
        },
        {
         "name": "total_gasto",
         "rawType": "float64",
         "type": "float"
        },
        {
         "name": "average_price_per_unit",
         "rawType": "float64",
         "type": "float"
        }
       ],
       "conversionMethod": "pd.DataFrame",
       "ref": "04e329f0-e164-4b8c-ba78-28e30efdd192",
       "rows": [
        [
         "0",
         "Bakery",
         "2",
         "20.4",
         "8.94",
         "4.47"
        ],
        [
         "1",
         "Dairy",
         "1",
         "1.89",
         "1.89",
         "1.89"
        ],
        [
         "2",
         "Fruits",
         "5",
         "7.072",
         "31.07",
         "6.214"
        ],
        [
         "3",
         "Grains",
         "1",
         "15.9",
         "15.9",
         "15.9"
        ],
        [
         "4",
         "Outros",
         "87",
         "13.978275862068964",
         "862.93",
         "9.918735632183907"
        ]
       ],
       "shape": {
        "columns": 5,
        "rows": 5
       }
      },
      "text/html": [
       "<div>\n",
       "<style scoped>\n",
       "    .dataframe tbody tr th:only-of-type {\n",
       "        vertical-align: middle;\n",
       "    }\n",
       "\n",
       "    .dataframe tbody tr th {\n",
       "        vertical-align: top;\n",
       "    }\n",
       "\n",
       "    .dataframe thead th {\n",
       "        text-align: right;\n",
       "    }\n",
       "</style>\n",
       "<table border=\"1\" class=\"dataframe\">\n",
       "  <thead>\n",
       "    <tr style=\"text-align: right;\">\n",
       "      <th></th>\n",
       "      <th>categoria</th>\n",
       "      <th>qtde_total</th>\n",
       "      <th>preco_unit_medio</th>\n",
       "      <th>total_gasto</th>\n",
       "      <th>average_price_per_unit</th>\n",
       "    </tr>\n",
       "  </thead>\n",
       "  <tbody>\n",
       "    <tr>\n",
       "      <th>0</th>\n",
       "      <td>Bakery</td>\n",
       "      <td>2</td>\n",
       "      <td>20.400000</td>\n",
       "      <td>8.94</td>\n",
       "      <td>4.470000</td>\n",
       "    </tr>\n",
       "    <tr>\n",
       "      <th>1</th>\n",
       "      <td>Dairy</td>\n",
       "      <td>1</td>\n",
       "      <td>1.890000</td>\n",
       "      <td>1.89</td>\n",
       "      <td>1.890000</td>\n",
       "    </tr>\n",
       "    <tr>\n",
       "      <th>2</th>\n",
       "      <td>Fruits</td>\n",
       "      <td>5</td>\n",
       "      <td>7.072000</td>\n",
       "      <td>31.07</td>\n",
       "      <td>6.214000</td>\n",
       "    </tr>\n",
       "    <tr>\n",
       "      <th>3</th>\n",
       "      <td>Grains</td>\n",
       "      <td>1</td>\n",
       "      <td>15.900000</td>\n",
       "      <td>15.90</td>\n",
       "      <td>15.900000</td>\n",
       "    </tr>\n",
       "    <tr>\n",
       "      <th>4</th>\n",
       "      <td>Outros</td>\n",
       "      <td>87</td>\n",
       "      <td>13.978276</td>\n",
       "      <td>862.93</td>\n",
       "      <td>9.918736</td>\n",
       "    </tr>\n",
       "  </tbody>\n",
       "</table>\n",
       "</div>"
      ],
      "text/plain": [
       "  categoria  qtde_total  preco_unit_medio  total_gasto  average_price_per_unit\n",
       "0    Bakery           2         20.400000         8.94                4.470000\n",
       "1     Dairy           1          1.890000         1.89                1.890000\n",
       "2    Fruits           5          7.072000        31.07                6.214000\n",
       "3    Grains           1         15.900000        15.90               15.900000\n",
       "4    Outros          87         13.978276       862.93                9.918736"
      ]
     },
     "execution_count": 45,
     "metadata": {},
     "output_type": "execute_result"
    }
   ],
   "source": [
    "# Calculate the average price per unit, handling potential division by zero\n",
    "df_product_summary['average_price_per_unit'] = df_product_summary['total_gasto'] / df_product_summary['qtde_total']\n",
    "df_product_summary['average_price_per_unit'] = df_product_summary['average_price_per_unit'].fillna(0)\n",
    "df_product_summary.head()"
   ]
  },
  {
   "cell_type": "code",
   "execution_count": 48,
   "metadata": {},
   "outputs": [
    {
     "name": "stdout",
     "output_type": "stream",
     "text": [
      "Total Spending per Category:\n",
      " categoria\n",
      "Bakery          8.94\n",
      "Dairy           1.89\n",
      "Fruits         31.07\n",
      "Grains         15.90\n",
      "Outros        862.93\n",
      "Vegetables     16.72\n",
      "Name: total_gasto, dtype: float64\n",
      "\n",
      "Top 5 Most Expensive Products:\n",
      "     categoria  qtde_total  preco_unit_medio  total_gasto\n",
      "4      Outros          87         13.978276       862.93\n",
      "2      Fruits           5          7.072000        31.07\n",
      "5  Vegetables           6          9.808333        16.72\n",
      "3      Grains           1         15.900000        15.90\n",
      "0      Bakery           2         20.400000         8.94\n",
      "\n",
      "Top 5 Most Expensive Categories:\n",
      " categoria\n",
      "Outros        862.93\n",
      "Fruits         31.07\n",
      "Vegetables     16.72\n",
      "Grains         15.90\n",
      "Bakery          8.94\n",
      "Name: total_gasto, dtype: float64\n"
     ]
    },
    {
     "data": {
      "application/vnd.microsoft.datawrangler.viewer.v0+json": {
       "columns": [
        {
         "name": "index",
         "rawType": "int64",
         "type": "integer"
        },
        {
         "name": "categoria",
         "rawType": "object",
         "type": "string"
        },
        {
         "name": "qtde_total",
         "rawType": "int64",
         "type": "integer"
        },
        {
         "name": "preco_unit_medio",
         "rawType": "float64",
         "type": "float"
        },
        {
         "name": "total_gasto",
         "rawType": "float64",
         "type": "float"
        },
        {
         "name": "average_price_per_unit",
         "rawType": "float64",
         "type": "float"
        }
       ],
       "conversionMethod": "pd.DataFrame",
       "ref": "b6e025cb-c4eb-4444-a42a-3f6019201747",
       "rows": [
        [
         "0",
         "Bakery",
         "2",
         "20.4",
         "8.94",
         "4.47"
        ],
        [
         "1",
         "Dairy",
         "1",
         "1.89",
         "1.89",
         "1.89"
        ],
        [
         "2",
         "Fruits",
         "5",
         "7.072",
         "31.07",
         "6.214"
        ],
        [
         "3",
         "Grains",
         "1",
         "15.9",
         "15.9",
         "15.9"
        ],
        [
         "4",
         "Outros",
         "87",
         "13.978275862068964",
         "862.93",
         "9.918735632183907"
        ],
        [
         "5",
         "Vegetables",
         "6",
         "9.808333333333334",
         "16.72",
         "2.7866666666666666"
        ]
       ],
       "shape": {
        "columns": 5,
        "rows": 6
       }
      },
      "text/html": [
       "<div>\n",
       "<style scoped>\n",
       "    .dataframe tbody tr th:only-of-type {\n",
       "        vertical-align: middle;\n",
       "    }\n",
       "\n",
       "    .dataframe tbody tr th {\n",
       "        vertical-align: top;\n",
       "    }\n",
       "\n",
       "    .dataframe thead th {\n",
       "        text-align: right;\n",
       "    }\n",
       "</style>\n",
       "<table border=\"1\" class=\"dataframe\">\n",
       "  <thead>\n",
       "    <tr style=\"text-align: right;\">\n",
       "      <th></th>\n",
       "      <th>categoria</th>\n",
       "      <th>qtde_total</th>\n",
       "      <th>preco_unit_medio</th>\n",
       "      <th>total_gasto</th>\n",
       "      <th>average_price_per_unit</th>\n",
       "    </tr>\n",
       "  </thead>\n",
       "  <tbody>\n",
       "    <tr>\n",
       "      <th>0</th>\n",
       "      <td>Bakery</td>\n",
       "      <td>2</td>\n",
       "      <td>20.400000</td>\n",
       "      <td>8.94</td>\n",
       "      <td>4.470000</td>\n",
       "    </tr>\n",
       "    <tr>\n",
       "      <th>1</th>\n",
       "      <td>Dairy</td>\n",
       "      <td>1</td>\n",
       "      <td>1.890000</td>\n",
       "      <td>1.89</td>\n",
       "      <td>1.890000</td>\n",
       "    </tr>\n",
       "    <tr>\n",
       "      <th>2</th>\n",
       "      <td>Fruits</td>\n",
       "      <td>5</td>\n",
       "      <td>7.072000</td>\n",
       "      <td>31.07</td>\n",
       "      <td>6.214000</td>\n",
       "    </tr>\n",
       "    <tr>\n",
       "      <th>3</th>\n",
       "      <td>Grains</td>\n",
       "      <td>1</td>\n",
       "      <td>15.900000</td>\n",
       "      <td>15.90</td>\n",
       "      <td>15.900000</td>\n",
       "    </tr>\n",
       "    <tr>\n",
       "      <th>4</th>\n",
       "      <td>Outros</td>\n",
       "      <td>87</td>\n",
       "      <td>13.978276</td>\n",
       "      <td>862.93</td>\n",
       "      <td>9.918736</td>\n",
       "    </tr>\n",
       "    <tr>\n",
       "      <th>5</th>\n",
       "      <td>Vegetables</td>\n",
       "      <td>6</td>\n",
       "      <td>9.808333</td>\n",
       "      <td>16.72</td>\n",
       "      <td>2.786667</td>\n",
       "    </tr>\n",
       "  </tbody>\n",
       "</table>\n",
       "</div>"
      ],
      "text/plain": [
       "    categoria  qtde_total  preco_unit_medio  total_gasto  \\\n",
       "0      Bakery           2         20.400000         8.94   \n",
       "1       Dairy           1          1.890000         1.89   \n",
       "2      Fruits           5          7.072000        31.07   \n",
       "3      Grains           1         15.900000        15.90   \n",
       "4      Outros          87         13.978276       862.93   \n",
       "5  Vegetables           6          9.808333        16.72   \n",
       "\n",
       "   average_price_per_unit  \n",
       "0                4.470000  \n",
       "1                1.890000  \n",
       "2                6.214000  \n",
       "3               15.900000  \n",
       "4                9.918736  \n",
       "5                2.786667  "
      ]
     },
     "metadata": {},
     "output_type": "display_data"
    },
    {
     "name": "stdout",
     "output_type": "stream",
     "text": [
      "\n",
      "Cramer's V for Category-Spending Correlation: 1.0000000000000002\n"
     ]
    }
   ],
   "source": [
    "# Analyze potential correlations between product categories and total spending\n",
    "# Use Cramer's V for categorical-numerical correlation (as an example)\n",
    "\n",
    "contingency_table = pd.crosstab(df_product_summary['categoria'], df_product_summary['total_gasto'].astype(int))\n",
    "chi2, p, dof, expected = chi2_contingency(contingency_table)\n",
    "cramers_v = np.sqrt(chi2 / (df_product_summary.shape[0] * (min(contingency_table.shape) - 1)))\n",
    "category_spending_correlation = cramers_v\n",
    "\n",
    "# Print or display the results\n",
    "print(\"Total Spending per Category:\\n\", spending_per_category)\n",
    "print(\"\\nTop 5 Most Expensive Products:\\n\", top_5_products)\n",
    "print(\"\\nTop 5 Most Expensive Categories:\\n\", top_5_categories)\n",
    "display(df_product_summary)\n",
    "print(\"\\nCramer's V for Category-Spending Correlation:\", category_spending_correlation)"
   ]
  }
 ],
 "metadata": {
  "kernelspec": {
   "display_name": ".venv",
   "language": "python",
   "name": "python3"
  },
  "language_info": {
   "codemirror_mode": {
    "name": "ipython",
    "version": 3
   },
   "file_extension": ".py",
   "mimetype": "text/x-python",
   "name": "python",
   "nbconvert_exporter": "python",
   "pygments_lexer": "ipython3",
   "version": "3.11.11"
  }
 },
 "nbformat": 4,
 "nbformat_minor": 2
}
