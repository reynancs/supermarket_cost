{
 "cells": [
  {
   "cell_type": "code",
   "execution_count": 1,
   "metadata": {},
   "outputs": [],
   "source": [
    "from selenium import webdriver\n",
    "from selenium.webdriver.chrome.options import Options\n",
    "from bs4 import BeautifulSoup\n",
    "import pandas as pd\n",
    "import time\n",
    "import re"
   ]
  },
  {
   "cell_type": "code",
   "execution_count": 2,
   "metadata": {},
   "outputs": [],
   "source": [
    "# --- Configura o Selenium para rodar em modo \"headless\" (sem abrir janela)\n",
    "chrome_options = Options()\n",
    "chrome_options.add_argument(\"--headless\")  # Remova essa linha se quiser ver o navegador\n",
    "chrome_options.add_argument(\"--disable-gpu\")\n",
    "chrome_options.add_argument(\"--no-sandbox\")\n",
    "\n",
    "# --- Inicializa o navegador\n",
    "driver = webdriver.Chrome(options=chrome_options)"
   ]
  },
  {
   "cell_type": "code",
   "execution_count": null,
   "metadata": {},
   "outputs": [],
   "source": [
    "# --- URL do QR Code (exemplo real da nota)\n",
    "\n",
    "\"\"\"\n",
    " O que significam os valores após a chave de acesso?\n",
    " p = CHAVE|VER|AMBIENTE|TIPO_EMISSOR|DIGEST\n",
    "1. CHAVE:  Chave de acesso da NFC-e (29250306057223048450650150000775861151017568)\n",
    "2. VERSÃO=2: Versão do QR Code (ex: 2 = layout da 2ª versão)\n",
    "3. AMBIENTE=1: produção = 1, Homologação (teste) = 2\n",
    "4. TIPO_EMISSOR=1:  geralmente 1 = normal, 2 = contingência\n",
    "5. DIGEST/HASH: DigestValue (resumo criptográfico SHA1 ou SHA256)\n",
    "\n",
    "O DigestValue é uma assinatura que autentica a URL (como um \"hash de verificação\" da NFC-e), criado com base nos dados da nota e certificado digital.\n",
    " Ele evita alterações manuais ou falsificações na URL.\n",
    "\n",
    " \"\"\"\n",
    "\n",
    "url_qrcode = \"http://nfe.sefaz.ba.gov.br/servicos/nfce/modulos/geral/NFCEC_consulta_chave_acesso.aspx?p=29250306057223048450650150000775861151017568|2|1|1|8DF25CB77517F73F80677AE283AEE7DFCCA38282\"\n",
    "driver.get(url_qrcode)"
   ]
  },
  {
   "cell_type": "code",
   "execution_count": 4,
   "metadata": {},
   "outputs": [],
   "source": [
    "# --- Aguarda a página carregar completamente\n",
    "time.sleep(5)  # Pode ajustar dependendo da conexão\n",
    "\n",
    "# --- Extrai o HTML renderizado\n",
    "html = driver.page_source\n",
    "driver.quit()"
   ]
  },
  {
   "cell_type": "code",
   "execution_count": 5,
   "metadata": {},
   "outputs": [],
   "source": [
    "# --- Faz o parsing com BeautifulSoup\n",
    "soup = BeautifulSoup(html, \"html.parser\")"
   ]
  },
  {
   "cell_type": "code",
   "execution_count": 6,
   "metadata": {},
   "outputs": [],
   "source": [
    "# --- Localiza a tabela com id=\"tabResult\"\n",
    "tabela = soup.find(\"table\", {\"id\": \"tabResult\"})"
   ]
  },
  {
   "cell_type": "code",
   "execution_count": null,
   "metadata": {},
   "outputs": [],
   "source": [
    "produtos = []\n",
    "\n",
    "if tabela:\n",
    "    linhas = tabela.find_all(\"tr\")\n",
    "    for linha in linhas:\n",
    "        colunas = linha.find_all(\"td\")\n",
    "        if len(colunas) >= 2:\n",
    "            # Descrição\n",
    "            descricao_tag = colunas[0].find(\"span\", class_=\"txtTit\")\n",
    "            descricao = descricao_tag.text.strip() if descricao_tag else \"\"\n",
    "\n",
    "            # Código\n",
    "            codigo_tag = colunas[0].find(\"span\", class_=\"RCod\")\n",
    "            codigo = \"\"\n",
    "            if codigo_tag:\n",
    "                match = re.search(r\"\\d+\", codigo_tag.text)\n",
    "                if match:\n",
    "                    codigo = match.group()\n",
    "\n",
    "            # Extrai o restante do texto do td esquerdo\n",
    "            info_extra = colunas[0].text\n",
    "\n",
    "            # Regex para quantidade, unidade e valor unitário\n",
    "            #qtd_match = re.search(r\"Qtde:\\s*([\\d,\\.]+)\", info_extra)\n",
    "            qtd_match = re.search(r\"Qtde\\.\\s*:\\s*([\\d,\\.]+)\", info_extra)\n",
    "\n",
    "            un_match = re.search(r\"UN:\\s*([A-Za-z]+)\", info_extra)\n",
    "            vl_unit_match = re.search(r\"Vl\\. Unit\\.\\s*:\\s*([\\d,]+)\", info_extra)\n",
    "\n",
    "            quantidade = qtd_match.group(1) if qtd_match else \"\"\n",
    "            unidade = un_match.group(1) if un_match else \"\"\n",
    "            valor_unitario = vl_unit_match.group(1) if vl_unit_match else \"\"\n",
    "\n",
    "            # Valor total\n",
    "            valor_tag = colunas[1].find(\"span\", class_=\"valor\")\n",
    "            valor_total = valor_tag.text.strip() if valor_tag else \"\"\n",
    "\n",
    "            produtos.append({\n",
    "                \"Descrição\": descricao,\n",
    "                \"Código\": codigo,\n",
    "                \"Quantidade\": quantidade,\n",
    "                \"Unidade\": unidade,\n",
    "                \"Valor Unitário\": valor_unitario,\n",
    "                \"Valor Total\": valor_total\n",
    "            })\n",
    "\n",
    "    df = pd.DataFrame(produtos)\n",
    "    #print(df)\n",
    "else:\n",
    "    print(\"Tabela 'tabResult' não encontrada.\")"
   ]
  },
  {
   "cell_type": "code",
   "execution_count": 22,
   "metadata": {},
   "outputs": [
    {
     "data": {
      "application/vnd.microsoft.datawrangler.viewer.v0+json": {
       "columns": [
        {
         "name": "index",
         "rawType": "int64",
         "type": "integer"
        },
        {
         "name": "Descrição",
         "rawType": "object",
         "type": "string"
        },
        {
         "name": "Código",
         "rawType": "object",
         "type": "string"
        },
        {
         "name": "Quantidade",
         "rawType": "object",
         "type": "string"
        },
        {
         "name": "Unidade",
         "rawType": "object",
         "type": "string"
        },
        {
         "name": "Valor Unitário",
         "rawType": "object",
         "type": "string"
        },
        {
         "name": "Valor Total",
         "rawType": "object",
         "type": "string"
        }
       ],
       "conversionMethod": "pd.DataFrame",
       "ref": "10a009de-207b-4389-b852-ed3db76050b8",
       "rows": [
        [
         "0",
         "TOMATE SALADA kg",
         "8186",
         "0,505",
         "Kg",
         "7,49",
         "3,78"
        ],
        [
         "1",
         "BETERRABA kg",
         "8134",
         "0,215",
         "Kg",
         "3,99",
         "0,85"
        ],
        [
         "2",
         "CEBOLA NAC kg",
         "7832",
         "0,33",
         "Kg",
         "3,99",
         "1,31"
        ],
        [
         "3",
         "BANANA TERRA kg",
         "62885",
         "0,59",
         "Kg",
         "3,49",
         "2,05"
        ],
        [
         "4",
         "PITAYA kg",
         "1062316",
         "0,48",
         "Kg",
         "17,9",
         "8,59"
        ]
       ],
       "shape": {
        "columns": 6,
        "rows": 5
       }
      },
      "text/html": [
       "<div>\n",
       "<style scoped>\n",
       "    .dataframe tbody tr th:only-of-type {\n",
       "        vertical-align: middle;\n",
       "    }\n",
       "\n",
       "    .dataframe tbody tr th {\n",
       "        vertical-align: top;\n",
       "    }\n",
       "\n",
       "    .dataframe thead th {\n",
       "        text-align: right;\n",
       "    }\n",
       "</style>\n",
       "<table border=\"1\" class=\"dataframe\">\n",
       "  <thead>\n",
       "    <tr style=\"text-align: right;\">\n",
       "      <th></th>\n",
       "      <th>Descrição</th>\n",
       "      <th>Código</th>\n",
       "      <th>Quantidade</th>\n",
       "      <th>Unidade</th>\n",
       "      <th>Valor Unitário</th>\n",
       "      <th>Valor Total</th>\n",
       "    </tr>\n",
       "  </thead>\n",
       "  <tbody>\n",
       "    <tr>\n",
       "      <th>0</th>\n",
       "      <td>TOMATE SALADA kg</td>\n",
       "      <td>8186</td>\n",
       "      <td>0,505</td>\n",
       "      <td>Kg</td>\n",
       "      <td>7,49</td>\n",
       "      <td>3,78</td>\n",
       "    </tr>\n",
       "    <tr>\n",
       "      <th>1</th>\n",
       "      <td>BETERRABA kg</td>\n",
       "      <td>8134</td>\n",
       "      <td>0,215</td>\n",
       "      <td>Kg</td>\n",
       "      <td>3,99</td>\n",
       "      <td>0,85</td>\n",
       "    </tr>\n",
       "    <tr>\n",
       "      <th>2</th>\n",
       "      <td>CEBOLA NAC kg</td>\n",
       "      <td>7832</td>\n",
       "      <td>0,33</td>\n",
       "      <td>Kg</td>\n",
       "      <td>3,99</td>\n",
       "      <td>1,31</td>\n",
       "    </tr>\n",
       "    <tr>\n",
       "      <th>3</th>\n",
       "      <td>BANANA TERRA kg</td>\n",
       "      <td>62885</td>\n",
       "      <td>0,59</td>\n",
       "      <td>Kg</td>\n",
       "      <td>3,49</td>\n",
       "      <td>2,05</td>\n",
       "    </tr>\n",
       "    <tr>\n",
       "      <th>4</th>\n",
       "      <td>PITAYA kg</td>\n",
       "      <td>1062316</td>\n",
       "      <td>0,48</td>\n",
       "      <td>Kg</td>\n",
       "      <td>17,9</td>\n",
       "      <td>8,59</td>\n",
       "    </tr>\n",
       "  </tbody>\n",
       "</table>\n",
       "</div>"
      ],
      "text/plain": [
       "          Descrição   Código Quantidade Unidade Valor Unitário Valor Total\n",
       "0  TOMATE SALADA kg     8186      0,505      Kg           7,49        3,78\n",
       "1      BETERRABA kg     8134      0,215      Kg           3,99        0,85\n",
       "2     CEBOLA NAC kg     7832       0,33      Kg           3,99        1,31\n",
       "3   BANANA TERRA kg    62885       0,59      Kg           3,49        2,05\n",
       "4         PITAYA kg  1062316       0,48      Kg           17,9        8,59"
      ]
     },
     "execution_count": 22,
     "metadata": {},
     "output_type": "execute_result"
    }
   ],
   "source": [
    "df.head()"
   ]
  },
  {
   "cell_type": "code",
   "execution_count": 24,
   "metadata": {},
   "outputs": [],
   "source": [
    "df.to_csv(\"../data/raw/compras.csv\")"
   ]
  },
  {
   "cell_type": "code",
   "execution_count": null,
   "metadata": {},
   "outputs": [
    {
     "name": "stdout",
     "output_type": "stream",
     "text": [
      "3,780,851,312,058,599,614,784,401,890,940,981,433,834,449,304,492,491,895,994,499,902,1610,9047,8016,9012,5411,2210,4010,8118,2677,8023,311,233,8730,986,2921,763,9825,085,637,0637,9016,4917,9959,0021,9015,486,9924,9014,7012,8021,9636,9842,902,097,894,8915,9016,6012,871,258,754,184,8926,903,498,858,905,294,194,892,8512,9013,9029,803,553,4523,694,883,7419,193,693,693,556,0510,602,0913,292,8511,901,694,985,814,5813,495,2910,4910,582,992,997,993,132,997,9920,905,6725,9019,49\n"
     ]
    }
   ],
   "source": [
    "valor_total = df['Valor Total'].sum()\n",
    "print(valor_total)"
   ]
  },
  {
   "cell_type": "code",
   "execution_count": null,
   "metadata": {},
   "outputs": [],
   "source": []
  }
 ],
 "metadata": {
  "kernelspec": {
   "display_name": ".venv",
   "language": "python",
   "name": "python3"
  },
  "language_info": {
   "codemirror_mode": {
    "name": "ipython",
    "version": 3
   },
   "file_extension": ".py",
   "mimetype": "text/x-python",
   "name": "python",
   "nbconvert_exporter": "python",
   "pygments_lexer": "ipython3",
   "version": "3.11.11"
  }
 },
 "nbformat": 4,
 "nbformat_minor": 2
}
