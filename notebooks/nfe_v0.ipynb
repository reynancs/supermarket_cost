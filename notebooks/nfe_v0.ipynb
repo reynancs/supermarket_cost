{
 "cells": [
  {
   "cell_type": "code",
   "execution_count": 1,
   "metadata": {},
   "outputs": [],
   "source": [
    "from selenium import webdriver\n",
    "from selenium.webdriver.chrome.options import Options\n",
    "from bs4 import BeautifulSoup\n",
    "import pandas as pd\n",
    "import time\n",
    "import re"
   ]
  },
  {
   "cell_type": "code",
   "execution_count": 2,
   "metadata": {},
   "outputs": [],
   "source": [
    "# --- Configura o Selenium para rodar em modo \"headless\" (sem abrir janela)\n",
    "chrome_options = Options()\n",
    "chrome_options.add_argument(\"--headless\")  # Remova essa linha se quiser ver o navegador\n",
    "chrome_options.add_argument(\"--disable-gpu\")\n",
    "chrome_options.add_argument(\"--no-sandbox\")\n",
    "\n",
    "# --- Inicializa o navegador\n",
    "driver = webdriver.Chrome(options=chrome_options)"
   ]
  },
  {
   "cell_type": "code",
   "execution_count": 3,
   "metadata": {},
   "outputs": [],
   "source": [
    "# --- URL do QR Code (exemplo real da nota)\n",
    "url_qrcode = \"http://nfe.sefaz.ba.gov.br/servicos/nfce/modulos/geral/NFCEC_consulta_chave_acesso.aspx?p=29250306057223048450650150000775861151017568|2|1|1|8DF25CB77517F73F80677AE283AEE7DFCCA38282\"\n",
    "driver.get(url_qrcode)"
   ]
  },
  {
   "cell_type": "code",
   "execution_count": 4,
   "metadata": {},
   "outputs": [],
   "source": [
    "# --- Aguarda a página carregar completamente\n",
    "time.sleep(5)  # Pode ajustar dependendo da conexão\n",
    "\n",
    "# --- Extrai o HTML renderizado\n",
    "html = driver.page_source\n",
    "driver.quit()"
   ]
  },
  {
   "cell_type": "code",
   "execution_count": 5,
   "metadata": {},
   "outputs": [],
   "source": [
    "# --- Faz o parsing com BeautifulSoup\n",
    "soup = BeautifulSoup(html, \"html.parser\")"
   ]
  },
  {
   "cell_type": "code",
   "execution_count": 6,
   "metadata": {},
   "outputs": [],
   "source": [
    "# --- Localiza a tabela com id=\"tabResult\"\n",
    "tabela = soup.find(\"table\", {\"id\": \"tabResult\"})"
   ]
  },
  {
   "cell_type": "code",
   "execution_count": 7,
   "metadata": {},
   "outputs": [
    {
     "name": "stdout",
     "output_type": "stream",
     "text": [
      "                Descrição   Código Valor Total\n",
      "0        TOMATE SALADA kg     8186        3,78\n",
      "1            BETERRABA kg     8134        0,85\n",
      "2           CEBOLA NAC kg     7832        1,31\n",
      "3         BANANA TERRA kg    62885        2,05\n",
      "4               PITAYA kg  1062316        8,59\n",
      "..                    ...      ...         ...\n",
      "103    TAPIOCA LIMIAR 1kg  1059242        7,99\n",
      "104  DORITOS NACHO 210G Q  1150692       20,90\n",
      "105   WAFER BAUD 70G BRIG  1200515        5,67\n",
      "106  SORV DIAM/LAKA 1,5LT  1102715       25,90\n",
      "107  REF COCA COL 6X350ML  1137357       19,49\n",
      "\n",
      "[108 rows x 3 columns]\n"
     ]
    }
   ],
   "source": [
    "produtos = []\n",
    "\n",
    "if tabela:\n",
    "    linhas = tabela.find_all(\"tr\")\n",
    "    for linha in linhas:\n",
    "        colunas = linha.find_all(\"td\")\n",
    "        if len(colunas) >= 2:\n",
    "            # Descrição do produto\n",
    "            descricao_tag = colunas[0].find(\"span\", class_=\"txtTit\")\n",
    "            descricao = descricao_tag.text.strip() if descricao_tag else \"\"\n",
    "\n",
    "            # Código do produto (entre parênteses)\n",
    "            codigo_tag = colunas[0].find(\"span\", class_=\"RCod\")\n",
    "            codigo = \"\"\n",
    "            if codigo_tag:\n",
    "                match = re.search(r\"\\d+\", codigo_tag.text)\n",
    "                if match:\n",
    "                    codigo = match.group()\n",
    "\n",
    "            # Valor total\n",
    "            valor_tag = colunas[1].find(\"span\", class_=\"valor\")\n",
    "            valor_total = valor_tag.text.strip() if valor_tag else \"\"\n",
    "\n",
    "            # Adiciona ao DataFrame\n",
    "            produtos.append({\n",
    "                \"Descrição\": descricao,\n",
    "                \"Código\": codigo,\n",
    "                \"Valor Total\": valor_total\n",
    "            })\n",
    "\n",
    "    # Cria o DataFrame\n",
    "    df = pd.DataFrame(produtos)\n",
    "    print(df)\n",
    "else:\n",
    "    print(\"❌ Tabela 'tabResult' não encontrada.\")"
   ]
  },
  {
   "cell_type": "code",
   "execution_count": 8,
   "metadata": {},
   "outputs": [
    {
     "name": "stdout",
     "output_type": "stream",
     "text": [
      "                Descrição   Código Quantidade Unidade Valor Unitário  \\\n",
      "0        TOMATE SALADA kg     8186                 Kg           7,49   \n",
      "1            BETERRABA kg     8134                 Kg           3,99   \n",
      "2           CEBOLA NAC kg     7832                 Kg           3,99   \n",
      "3         BANANA TERRA kg    62885                 Kg           3,49   \n",
      "4               PITAYA kg  1062316                 Kg           17,9   \n",
      "..                    ...      ...        ...     ...            ...   \n",
      "103    TAPIOCA LIMIAR 1kg  1059242                 Un           7,99   \n",
      "104  DORITOS NACHO 210G Q  1150692                 PC           20,9   \n",
      "105   WAFER BAUD 70G BRIG  1200515                 Un           1,89   \n",
      "106  SORV DIAM/LAKA 1,5LT  1102715                 Pt           25,9   \n",
      "107  REF COCA COL 6X350ML  1137357                 Fd          19,49   \n",
      "\n",
      "    Valor Total  \n",
      "0          3,78  \n",
      "1          0,85  \n",
      "2          1,31  \n",
      "3          2,05  \n",
      "4          8,59  \n",
      "..          ...  \n",
      "103        7,99  \n",
      "104       20,90  \n",
      "105        5,67  \n",
      "106       25,90  \n",
      "107       19,49  \n",
      "\n",
      "[108 rows x 6 columns]\n"
     ]
    }
   ],
   "source": [
    "produtos = []\n",
    "\n",
    "if tabela:\n",
    "    linhas = tabela.find_all(\"tr\")\n",
    "    for linha in linhas:\n",
    "        colunas = linha.find_all(\"td\")\n",
    "        if len(colunas) >= 2:\n",
    "            # Descrição\n",
    "            descricao_tag = colunas[0].find(\"span\", class_=\"txtTit\")\n",
    "            descricao = descricao_tag.text.strip() if descricao_tag else \"\"\n",
    "\n",
    "            # Código\n",
    "            codigo_tag = colunas[0].find(\"span\", class_=\"RCod\")\n",
    "            codigo = \"\"\n",
    "            if codigo_tag:\n",
    "                match = re.search(r\"\\d+\", codigo_tag.text)\n",
    "                if match:\n",
    "                    codigo = match.group()\n",
    "\n",
    "            # Extrai o restante do texto do td esquerdo\n",
    "            info_extra = colunas[0].text\n",
    "\n",
    "            # Regex para quantidade, unidade e valor unitário\n",
    "            qtd_match = re.search(r\"Qtde:\\s*([\\d,\\.]+)\", info_extra)\n",
    "            un_match = re.search(r\"UN:\\s*([A-Za-z]+)\", info_extra)\n",
    "            vl_unit_match = re.search(r\"Vl\\. Unit\\.\\s*:\\s*([\\d,]+)\", info_extra)\n",
    "\n",
    "            quantidade = qtd_match.group(1) if qtd_match else \"\"\n",
    "            unidade = un_match.group(1) if un_match else \"\"\n",
    "            valor_unitario = vl_unit_match.group(1) if vl_unit_match else \"\"\n",
    "\n",
    "            # Valor total\n",
    "            valor_tag = colunas[1].find(\"span\", class_=\"valor\")\n",
    "            valor_total = valor_tag.text.strip() if valor_tag else \"\"\n",
    "\n",
    "            produtos.append({\n",
    "                \"Descrição\": descricao,\n",
    "                \"Código\": codigo,\n",
    "                \"Quantidade\": quantidade,\n",
    "                \"Unidade\": unidade,\n",
    "                \"Valor Unitário\": valor_unitario,\n",
    "                \"Valor Total\": valor_total\n",
    "            })\n",
    "\n",
    "    df = pd.DataFrame(produtos)\n",
    "    print(df)\n",
    "else:\n",
    "    print(\"❌ Tabela 'tabResult' não encontrada.\")"
   ]
  },
  {
   "cell_type": "code",
   "execution_count": null,
   "metadata": {},
   "outputs": [],
   "source": []
  }
 ],
 "metadata": {
  "kernelspec": {
   "display_name": ".venv",
   "language": "python",
   "name": "python3"
  },
  "language_info": {
   "codemirror_mode": {
    "name": "ipython",
    "version": 3
   },
   "file_extension": ".py",
   "mimetype": "text/x-python",
   "name": "python",
   "nbconvert_exporter": "python",
   "pygments_lexer": "ipython3",
   "version": "3.11.11"
  }
 },
 "nbformat": 4,
 "nbformat_minor": 2
}
